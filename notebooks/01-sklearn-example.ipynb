{
 "cells": [
  {
   "cell_type": "markdown",
   "metadata": {},
   "source": [
    "Using the dataset and ploting code from [Prediction Intervals for Gradient Boosting Regression](http://scikit-learn.org/stable/auto_examples/ensemble/plot_gradient_boosting_quantile.html)"
   ]
  },
  {
   "cell_type": "code",
   "execution_count": 1,
   "metadata": {},
   "outputs": [],
   "source": [
    "import tensorflow as tf\n",
    "import pandas as pd\n",
    "import numpy as np\n",
    "import matplotlib.pyplot as plt\n",
    "\n",
    "%matplotlib inline\n",
    "np.random.seed(1)"
   ]
  },
  {
   "cell_type": "markdown",
   "metadata": {},
   "source": [
    "## Prepare Dataset"
   ]
  },
  {
   "cell_type": "code",
   "execution_count": 2,
   "metadata": {},
   "outputs": [
    {
     "data": {
      "text/plain": [
       "((100, 1), (100,), (1000, 1))"
      ]
     },
     "execution_count": 2,
     "metadata": {},
     "output_type": "execute_result"
    }
   ],
   "source": [
    "def f(x):\n",
    "    \"\"\"The function to predict.\"\"\"\n",
    "    return x * np.sin(x)\n",
    "\n",
    "#----------------------------------------------------------------------\n",
    "#  First the noiseless case\n",
    "X = np.atleast_2d(np.random.uniform(0, 10.0, size=100)).T\n",
    "X = X.astype(np.float32)\n",
    "\n",
    "# Observations\n",
    "y = f(X).ravel()\n",
    "\n",
    "dy = 1.5 + 1.0 * np.random.random(y.shape)\n",
    "noise = np.random.normal(0, dy)\n",
    "y += noise\n",
    "y = y.astype(np.float32)\n",
    "\n",
    "# Mesh the input space for evaluations of the real function, the prediction and\n",
    "# its MSE\n",
    "xx = np.atleast_2d(np.linspace(0, 10, 1000)).T\n",
    "xx = xx.astype(np.float32)\n",
    "\n",
    "X.shape, y.shape, xx.shape"
   ]
  },
  {
   "cell_type": "markdown",
   "metadata": {},
   "source": [
    "## Build the Model"
   ]
  },
  {
   "cell_type": "code",
   "execution_count": 3,
   "metadata": {},
   "outputs": [],
   "source": [
    "# Create network\n",
    "class q_model:\n",
    "    def __init__(self, \n",
    "                 sess, \n",
    "                 quantiles, \n",
    "                 in_shape=1, \n",
    "                 out_shape=1, \n",
    "                 batch_size=32,\n",
    "                 dropout=0.5):\n",
    "        \n",
    "        self.sess = sess\n",
    "        \n",
    "        self.quantiles = quantiles\n",
    "        self.num_quantiles = len(quantiles)\n",
    "        \n",
    "        self.in_shape = in_shape\n",
    "        self.out_shape = out_shape\n",
    "        self.batch_size = batch_size\n",
    "        self.dropout = dropout\n",
    "        \n",
    "        self.outputs = []\n",
    "        self.losses = []\n",
    "        self.loss_history = []\n",
    "        self.optim = tf.train.AdamOptimizer()\n",
    "        \n",
    "        self.build_model()\n",
    "        \n",
    "    def build_model(self, scope='q_model', reuse=tf.AUTO_REUSE): \n",
    "        with tf.variable_scope(scope, reuse=reuse) as scope:\n",
    "            self.x = tf.placeholder(tf.float32, shape=(None, self.in_shape))\n",
    "            self.y = tf.placeholder(tf.float32, shape=(None, self.out_shape))\n",
    "            self.is_training = tf.placeholder(tf.bool)\n",
    "\n",
    "            self.layer0 = tf.layers.dense(self.x, \n",
    "                                    units=64, \n",
    "                                    activation=tf.nn.relu)\n",
    "            # self.layer0_dropped = tf.layers.dropout(tf.layers.batch_normalization(\n",
    "            #     self.layer0), self.dropout, training=self.is_training)\n",
    "            self.layer0_dropped = tf.layers.dropout(\n",
    "                self.layer0, self.dropout, training=self.is_training)            \n",
    "            self.layer1 = tf.layers.dense(self.layer0, \n",
    "                                    units=64, \n",
    "                                    activation=tf.nn.relu)\n",
    "            # self.layer1_dropped = tf.layers.dropout(tf.layers.batch_normalization(\n",
    "            #     self.layer1), self.dropout, training=self.is_training)\n",
    "            self.layer1_dropped = tf.layers.dropout(\n",
    "                self.layer1, self.dropout, training=self.is_training)\n",
    "            # Create outputs and losses for all quantiles\n",
    "            for i in range(self.num_quantiles):\n",
    "                q = self.quantiles[i]\n",
    "                \n",
    "                # Get output layers \n",
    "                output = tf.layers.dense(self.layer1_dropped, 1, name=\"{}_q{}\".format(i, int(q*100)))\n",
    "                self.outputs.append(output)\n",
    "                \n",
    "                # Create losses\n",
    "                error = tf.subtract(self.y, output)\n",
    "                loss = tf.reduce_mean(tf.maximum(q*error, (q-1)*error), axis=-1)\n",
    "                self.losses.append(loss)\n",
    "                \n",
    "            # Create combined loss with weight loss\n",
    "            # self.combined_loss = tf.add(\n",
    "            #     tf.reduce_mean(tf.add_n(self.losses)),\n",
    "            #     1e-4 * tf.reduce_sum(tf.stack(\n",
    "            #       [tf.nn.l2_loss(i) for i in tf.trainable_variables()]\n",
    "            #     ))\n",
    "            # )\n",
    "            # Create combined loss\n",
    "            self.combined_loss = tf.reduce_mean(tf.add_n(self.losses))\n",
    "            self.train_step = self.optim.minimize(self.combined_loss)\n",
    "\n",
    "    def fit(self, x, y, epochs=100):  \n",
    "        for epoch in range(epochs):\n",
    "            epoch_losses = []\n",
    "            shuffle_idx = np.arange(x.shape[0])\n",
    "            np.random.shuffle(shuffle_idx)\n",
    "            x = x[shuffle_idx]\n",
    "            y = y[shuffle_idx]\n",
    "            for idx in range(0, x.shape[0], self.batch_size):\n",
    "                batch_x = x[idx : min(idx + self.batch_size, x.shape[0]),:]\n",
    "                batch_y = y[idx : min(idx + self.batch_size, y.shape[0]),:]\n",
    "\n",
    "                feed_dict = {\n",
    "                    self.x: batch_x,\n",
    "                    self.y: batch_y,\n",
    "                    self.is_training: True\n",
    "                }\n",
    "                \n",
    "                _, c_loss = self.sess.run([self.train_step, self.combined_loss], feed_dict)\n",
    "                epoch_losses.append(c_loss)\n",
    "                \n",
    "            epoch_loss =  np.mean(epoch_losses)\n",
    "            self.loss_history.append(epoch_loss)\n",
    "            if epoch % 500 == 0:\n",
    "                print(\"Epoch {}: {}\".format(epoch, epoch_loss))\n",
    "            \n",
    "    def predict(self, x, is_training=False):   \n",
    "        # Run model to get outputs\n",
    "        feed_dict = {self.x: x, self.is_training: is_training}\n",
    "        predictions = sess.run(self.outputs, feed_dict)\n",
    "        \n",
    "        return [x[:, 0] for x in predictions]"
   ]
  },
  {
   "cell_type": "code",
   "execution_count": 4,
   "metadata": {},
   "outputs": [],
   "source": [
    "# Initialize session\n",
    "sess = tf.Session()\n",
    "\n",
    "# Instantiate model\n",
    "quantiles = [.05, .5, .95]\n",
    "model = q_model(sess, quantiles, batch_size=10, dropout=0.25)\n",
    "\n",
    "# Initialize all variables\n",
    "init_op = tf.global_variables_initializer()\n",
    "sess.run(init_op)"
   ]
  },
  {
   "cell_type": "markdown",
   "metadata": {},
   "source": [
    "## Train the Model"
   ]
  },
  {
   "cell_type": "code",
   "execution_count": 5,
   "metadata": {},
   "outputs": [
    {
     "name": "stdout",
     "output_type": "stream",
     "text": [
      "Epoch 0: 4.868401527404785\n",
      "Epoch 500: 2.0847184658050537\n",
      "Epoch 1000: 1.6297193765640259\n",
      "Epoch 1500: 1.4903287887573242\n",
      "Epoch 2000: 1.5789573192596436\n",
      "Epoch 2500: 1.6105854511260986\n",
      "Epoch 3000: 1.474991798400879\n",
      "Epoch 3500: 1.407881498336792\n",
      "Epoch 4000: 1.4209771156311035\n",
      "Epoch 4500: 1.3205262422561646\n",
      "Epoch 5000: 1.3651021718978882\n",
      "Epoch 5500: 1.2420240640640259\n",
      "Epoch 6000: 1.2547590732574463\n",
      "Epoch 6500: 1.2422621250152588\n",
      "Epoch 7000: 1.1955715417861938\n",
      "Epoch 7500: 1.3057184219360352\n",
      "Epoch 8000: 1.217560052871704\n",
      "Epoch 8500: 1.2262756824493408\n",
      "Epoch 9000: 1.1940821409225464\n",
      "Epoch 9500: 1.2211695909500122\n"
     ]
    }
   ],
   "source": [
    "# Run training\n",
    "epochs = 10000\n",
    "model.fit(X, y[:, np.newaxis], epochs)"
   ]
  },
  {
   "cell_type": "code",
   "execution_count": 6,
   "metadata": {},
   "outputs": [
    {
     "data": {
      "image/png": "[encoded data removed]",
      "text/plain": [
       "<Figure size 432x288 with 1 Axes>"
      ]
     },
     "metadata": {},
     "output_type": "display_data"
    }
   ],
   "source": [
    "# Make the prediction on the meshed x-axis\n",
    "y_lower, y_pred, y_upper = model.predict(xx)\n",
    "\n",
    "# Plot the function, the prediction and the 90% confidence interval based on\n",
    "# the MSE\n",
    "fig = plt.figure()\n",
    "plt.plot(xx, f(xx), 'g:', label=u'$f(x) = x\\,\\sin(x)$')\n",
    "plt.plot(X, y, 'b.', markersize=10, label=u'Observations')\n",
    "plt.plot(xx, y_pred, 'r-', label=u'Prediction')\n",
    "plt.plot(xx, y_upper, 'k-')\n",
    "plt.plot(xx, y_lower, 'k-')\n",
    "plt.fill(np.concatenate([xx, xx[::-1]]),\n",
    "         np.concatenate([y_upper, y_lower[::-1]]),\n",
    "         alpha=.5, fc='b', ec='None', label='90% prediction interval')\n",
    "plt.xlabel('$x$')\n",
    "plt.ylabel('$f(x)$')\n",
    "plt.ylim(-10, 20)\n",
    "plt.legend(loc='upper left')\n",
    "plt.show()"
   ]
  },
  {
   "cell_type": "code",
   "execution_count": 7,
   "metadata": {},
   "outputs": [
    {
     "data": {
      "text/plain": [
       "(-2.021006, 0.69963694, 4.2993793)"
      ]
     },
     "execution_count": 7,
     "metadata": {},
     "output_type": "execute_result"
    }
   ],
   "source": [
    "predictions = model.predict(X)\n",
    "np.mean(predictions[0]), np.mean(predictions[1]), np.mean(predictions[2])"
   ]
  },
  {
   "cell_type": "code",
   "execution_count": 8,
   "metadata": {},
   "outputs": [
    {
     "name": "stdout",
     "output_type": "stream",
     "text": [
      "Percentage in the range (expecting 90%): 97.0\n"
     ]
    }
   ],
   "source": [
    "in_the_range = np.sum((y >= predictions[0]) & (y <= predictions[2]))\n",
    "print(\"Percentage in the range (expecting 90%):\", in_the_range / len(y) * 100)"
   ]
  },
  {
   "cell_type": "code",
   "execution_count": 9,
   "metadata": {},
   "outputs": [
    {
     "name": "stdout",
     "output_type": "stream",
     "text": [
      "Percentage out of the range (expecting 10%): 3.0\n"
     ]
    }
   ],
   "source": [
    "out_of_the_range = np.sum((y < predictions[0]) | (y > predictions[2]))\n",
    "print(\"Percentage out of the range (expecting 10%):\", out_of_the_range / len(y)  * 100)"
   ]
  },
  {
   "cell_type": "code",
   "execution_count": 10,
   "metadata": {},
   "outputs": [
    {
     "data": {
      "text/plain": [
       "(100,)"
      ]
     },
     "execution_count": 10,
     "metadata": {},
     "output_type": "execute_result"
    }
   ],
   "source": [
    "predictions[0].shape"
   ]
  },
  {
   "cell_type": "markdown",
   "metadata": {},
   "source": [
    "## MC Prediction"
   ]
  },
  {
   "cell_type": "code",
   "execution_count": 11,
   "metadata": {},
   "outputs": [],
   "source": [
    "K = 5000\n",
    "tmp = np.zeros((K, xx.shape[0])).astype(\"float32\")\n",
    "for k in range(K):\n",
    "    _, preds, _ = model.predict(xx, is_training=True)\n",
    "    tmp[k] = preds\n",
    "y_lower, y_pred, y_upper = np.percentile(tmp, (5, 50, 95), axis=0)    "
   ]
  },
  {
   "cell_type": "code",
   "execution_count": 12,
   "metadata": {},
   "outputs": [
    {
     "data": {
      "text/plain": [
       "(-0.16115528345108032, 0.13113969564437866, 0.537724494934082)"
      ]
     },
     "execution_count": 12,
     "metadata": {},
     "output_type": "execute_result"
    }
   ],
   "source": [
    "y_lower[1], y_pred[1], y_upper[1]"
   ]
  },
  {
   "cell_type": "code",
   "execution_count": 13,
   "metadata": {},
   "outputs": [
    {
     "data": {
      "image/png": "[encoded data removed]",
      "text/plain": [
       "<Figure size 432x288 with 1 Axes>"
      ]
     },
     "metadata": {},
     "output_type": "display_data"
    }
   ],
   "source": [
    "# Plot the function, the prediction and the 90% confidence interval based on\n",
    "# the MSE\n",
    "fig = plt.figure()\n",
    "plt.plot(xx, f(xx), 'g:', label=u'$f(x) = x\\,\\sin(x)$')\n",
    "plt.plot(X, y, 'b.', markersize=10, label=u'Observations')\n",
    "plt.plot(xx, y_pred, 'r-', label=u'Prediction')\n",
    "plt.plot(xx, y_upper, 'k-')\n",
    "plt.plot(xx, y_lower, 'k-')\n",
    "plt.fill(np.concatenate([xx, xx[::-1]]),\n",
    "         np.concatenate([y_upper, y_lower[::-1]]),\n",
    "         alpha=.5, fc='b', ec='None', label='90% prediction interval')\n",
    "plt.xlabel('$x$')\n",
    "plt.ylabel('$f(x)$')\n",
    "plt.ylim(-10, 20)\n",
    "plt.legend(loc='upper left')\n",
    "plt.show()"
   ]
  },
  {
   "cell_type": "code",
   "execution_count": 14,
   "metadata": {},
   "outputs": [
    {
     "data": {
      "text/plain": [
       "(-0.2950052110850811, 0.6799848186969757, 1.7764688780307774)"
      ]
     },
     "execution_count": 14,
     "metadata": {},
     "output_type": "execute_result"
    }
   ],
   "source": [
    "tmp = np.zeros((K, X.shape[0])).astype(\"float32\")\n",
    "for k in range(K):\n",
    "    _, preds, _ = model.predict(X, is_training=True)\n",
    "    tmp[k] = preds\n",
    "predictions = np.percentile(tmp, (5, 50, 95), axis=0) \n",
    "np.mean(predictions[0]), np.mean(predictions[1]), np.mean(predictions[2])"
   ]
  },
  {
   "cell_type": "code",
   "execution_count": 15,
   "metadata": {},
   "outputs": [
    {
     "name": "stdout",
     "output_type": "stream",
     "text": [
      "Percentage in the range (expecting 90%): 41.0\n"
     ]
    }
   ],
   "source": [
    "in_the_range = np.sum((y >= predictions[0]) & (y <= predictions[2]))\n",
    "print(\"Percentage in the range (expecting 90%):\", in_the_range / len(y) * 100)"
   ]
  },
  {
   "cell_type": "code",
   "execution_count": 16,
   "metadata": {},
   "outputs": [
    {
     "name": "stdout",
     "output_type": "stream",
     "text": [
      "Percentage out of the range (expecting 10%): 59.0\n"
     ]
    }
   ],
   "source": [
    "out_of_the_range = np.sum((y < predictions[0]) | (y > predictions[2]))\n",
    "print(\"Percentage out of the range (expecting 10%):\", out_of_the_range / len(y)  * 100)"
   ]
  },
  {
   "cell_type": "code",
   "execution_count": 17,
   "metadata": {},
   "outputs": [
    {
     "name": "stdout",
     "output_type": "stream",
     "text": [
      "Percentage in the range (expecting 90%): 61.904761904761905\n"
     ]
    }
   ],
   "source": [
    "truncate = (X[:, 0] >= 4) & (X[:, 0] <= 6)\n",
    "in_the_range = np.sum((y[truncate] >= predictions[0][truncate]) & (y[truncate] <= predictions[2][truncate]))\n",
    "print(\"Percentage in the range (expecting 90%):\", in_the_range / len(y[truncate]) * 100)"
   ]
  },
  {
   "cell_type": "code",
   "execution_count": null,
   "metadata": {},
   "outputs": [],
   "source": []
  },
  {
   "cell_type": "code",
   "execution_count": null,
   "metadata": {},
   "outputs": [],
   "source": []
  }
 ],
 "metadata": {
  "kernelspec": {
   "display_name": "Python 3",
   "language": "python",
   "name": "python3"
  },
  "language_info": {
   "codemirror_mode": {
    "name": "ipython",
    "version": 3
   },
   "file_extension": ".py",
   "mimetype": "text/x-python",
   "name": "python",
   "nbconvert_exporter": "python",
   "pygments_lexer": "ipython3",
   "version": "3.5.2"
  }
 },
 "nbformat": 4,
 "nbformat_minor": 2
}
