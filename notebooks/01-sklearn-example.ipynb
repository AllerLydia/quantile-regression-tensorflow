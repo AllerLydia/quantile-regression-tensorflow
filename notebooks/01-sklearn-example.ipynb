{
 "cells": [
  {
   "cell_type": "markdown",
   "metadata": {},
   "source": [
    "Using the dataset and ploting code from [Prediction Intervals for Gradient Boosting Regression](http://scikit-learn.org/stable/auto_examples/ensemble/plot_gradient_boosting_quantile.html)"
   ]
  },
  {
   "cell_type": "code",
   "execution_count": 1,
   "metadata": {},
   "outputs": [],
   "source": [
    "import tensorflow as tf\n",
    "import pandas as pd\n",
    "import numpy as np\n",
    "import matplotlib.pyplot as plt\n",
    "\n",
    "%matplotlib inline\n",
    "np.random.seed(1)"
   ]
  },
  {
   "cell_type": "markdown",
   "metadata": {},
   "source": [
    "## Prepare Dataset"
   ]
  },
  {
   "cell_type": "code",
   "execution_count": 2,
   "metadata": {},
   "outputs": [
    {
     "data": {
      "text/plain": [
       "((100, 1), (100,), (1000, 1))"
      ]
     },
     "execution_count": 2,
     "metadata": {},
     "output_type": "execute_result"
    }
   ],
   "source": [
    "def f(x):\n",
    "    \"\"\"The function to predict.\"\"\"\n",
    "    return x * np.sin(x)\n",
    "\n",
    "#----------------------------------------------------------------------\n",
    "#  First the noiseless case\n",
    "X = np.atleast_2d(np.random.uniform(0, 10.0, size=100)).T\n",
    "X = X.astype(np.float32)\n",
    "\n",
    "# Observations\n",
    "y = f(X).ravel()\n",
    "\n",
    "dy = 1.5 + 1.0 * np.random.random(y.shape)\n",
    "noise = np.random.normal(0, dy)\n",
    "y += noise\n",
    "y = y.astype(np.float32)\n",
    "\n",
    "# Mesh the input space for evaluations of the real function, the prediction and\n",
    "# its MSE\n",
    "xx = np.atleast_2d(np.linspace(0, 10, 1000)).T\n",
    "xx = xx.astype(np.float32)\n",
    "\n",
    "X.shape, y.shape, xx.shape"
   ]
  },
  {
   "cell_type": "markdown",
   "metadata": {},
   "source": [
    "## Build the Model"
   ]
  },
  {
   "cell_type": "code",
   "execution_count": 3,
   "metadata": {},
   "outputs": [],
   "source": [
    "# Create network\n",
    "class q_model:\n",
    "    def __init__(self, \n",
    "                 sess, \n",
    "                 quantiles, \n",
    "                 in_shape=1, \n",
    "                 out_shape=1, \n",
    "                 batch_size=32,\n",
    "                 dropout=0.5):\n",
    "        \n",
    "        self.sess = sess\n",
    "        \n",
    "        self.quantiles = quantiles\n",
    "        self.num_quantiles = len(quantiles)\n",
    "        \n",
    "        self.in_shape = in_shape\n",
    "        self.out_shape = out_shape\n",
    "        self.batch_size = batch_size\n",
    "        self.dropout = dropout\n",
    "        \n",
    "        self.outputs = []\n",
    "        self.losses = []\n",
    "        self.loss_history = []\n",
    "        self.optim = tf.train.AdamOptimizer()\n",
    "        \n",
    "        self.build_model()\n",
    "        \n",
    "    def build_model(self, scope='q_model', reuse=tf.AUTO_REUSE): \n",
    "        with tf.variable_scope(scope, reuse=reuse) as scope:\n",
    "            self.x = tf.placeholder(tf.float32, shape=(None, self.in_shape))\n",
    "            self.y = tf.placeholder(tf.float32, shape=(None, self.out_shape))\n",
    "            self.is_training = tf.placeholder(tf.bool)\n",
    "\n",
    "            self.layer0 = tf.layers.dense(self.x, \n",
    "                                    units=64, \n",
    "                                    activation=tf.nn.relu)\n",
    "            # self.layer0_dropped = tf.layers.dropout(tf.layers.batch_normalization(\n",
    "            #     self.layer0), self.dropout, training=self.is_training)\n",
    "            self.layer0_dropped = tf.layers.dropout(\n",
    "                self.layer0, self.dropout, training=self.is_training)            \n",
    "            self.layer1 = tf.layers.dense(self.layer0, \n",
    "                                    units=64, \n",
    "                                    activation=tf.nn.relu)\n",
    "            # self.layer1_dropped = tf.layers.dropout(tf.layers.batch_normalization(\n",
    "            #     self.layer1), self.dropout, training=self.is_training)\n",
    "            self.layer1_dropped = tf.layers.dropout(\n",
    "                self.layer1, self.dropout, training=self.is_training)\n",
    "            # Create outputs and losses for all quantiles\n",
    "            for i in range(self.num_quantiles):\n",
    "                q = self.quantiles[i]\n",
    "                \n",
    "                # Get output layers \n",
    "                output = tf.layers.dense(self.layer1_dropped, 1, name=\"{}_q{}\".format(i, int(q*100)))\n",
    "                self.outputs.append(output)\n",
    "                \n",
    "                # Create losses\n",
    "                error = tf.subtract(self.y, output)\n",
    "                loss = tf.reduce_mean(tf.maximum(q*error, (q-1)*error), axis=-1)\n",
    "                self.losses.append(loss)\n",
    "                \n",
    "            # Create combined loss with weight loss\n",
    "            # self.combined_loss = tf.add(\n",
    "            #     tf.reduce_mean(tf.add_n(self.losses)),\n",
    "            #     1e-4 * tf.reduce_sum(tf.stack(\n",
    "            #       [tf.nn.l2_loss(i) for i in tf.trainable_variables()]\n",
    "            #     ))\n",
    "            # )\n",
    "            # Create combined loss\n",
    "            self.combined_loss = tf.reduce_mean(tf.add_n(self.losses))\n",
    "            self.train_step = self.optim.minimize(self.combined_loss)\n",
    "\n",
    "    def fit(self, x, y, epochs=100):  \n",
    "        for epoch in range(epochs):\n",
    "            epoch_losses = []\n",
    "            shuffle_idx = np.arange(x.shape[0])\n",
    "            np.random.shuffle(shuffle_idx)\n",
    "            x = x[shuffle_idx]\n",
    "            y = y[shuffle_idx]\n",
    "            for idx in range(0, x.shape[0], self.batch_size):\n",
    "                batch_x = x[idx : min(idx + self.batch_size, x.shape[0]),:]\n",
    "                batch_y = y[idx : min(idx + self.batch_size, y.shape[0]),:]\n",
    "\n",
    "                feed_dict = {\n",
    "                    self.x: batch_x,\n",
    "                    self.y: batch_y,\n",
    "                    self.is_training: True\n",
    "                }\n",
    "                \n",
    "                _, c_loss = self.sess.run([self.train_step, self.combined_loss], feed_dict)\n",
    "                epoch_losses.append(c_loss)\n",
    "                \n",
    "            epoch_loss =  np.mean(epoch_losses)\n",
    "            self.loss_history.append(epoch_loss)\n",
    "            if epoch % 500 == 0:\n",
    "                print(\"Epoch {}: {}\".format(epoch, epoch_loss))\n",
    "            \n",
    "    def predict(self, x, is_training=False):   \n",
    "        # Run model to get outputs\n",
    "        feed_dict = {self.x: x, self.is_training: is_training}\n",
    "        predictions = sess.run(self.outputs, feed_dict)\n",
    "        \n",
    "        return [x[:, 0] for x in predictions]"
   ]
  },
  {
   "cell_type": "code",
   "execution_count": 4,
   "metadata": {},
   "outputs": [],
   "source": [
    "# Initialize session\n",
    "sess = tf.Session()\n",
    "\n",
    "# Instantiate model\n",
    "quantiles = [.05, .5, .95]\n",
    "model = q_model(sess, quantiles, batch_size=10, dropout=0.25)\n",
    "\n",
    "# Initialize all variables\n",
    "init_op = tf.global_variables_initializer()\n",
    "sess.run(init_op)"
   ]
  },
  {
   "cell_type": "markdown",
   "metadata": {},
   "source": [
    "## Train the Model"
   ]
  },
  {
   "cell_type": "code",
   "execution_count": 5,
   "metadata": {},
   "outputs": [
    {
     "name": "stdout",
     "output_type": "stream",
     "text": [
      "Epoch 0: 4.663191795349121\n",
      "Epoch 500: 2.0506691932678223\n",
      "Epoch 1000: 1.63481867313385\n",
      "Epoch 1500: 1.6355667114257812\n",
      "Epoch 2000: 1.589371681213379\n",
      "Epoch 2500: 1.3346890211105347\n",
      "Epoch 3000: 1.4532490968704224\n",
      "Epoch 3500: 1.32216215133667\n",
      "Epoch 4000: 1.3153111934661865\n",
      "Epoch 4500: 1.2459275722503662\n",
      "Epoch 5000: 1.2186205387115479\n",
      "Epoch 5500: 1.3078669309616089\n",
      "Epoch 6000: 1.1610138416290283\n",
      "Epoch 6500: 1.1786658763885498\n",
      "Epoch 7000: 1.1743240356445312\n",
      "Epoch 7500: 1.2485039234161377\n",
      "Epoch 8000: 1.1855597496032715\n",
      "Epoch 8500: 1.2351635694503784\n",
      "Epoch 9000: 1.1994359493255615\n",
      "Epoch 9500: 1.084350347518921\n"
     ]
    }
   ],
   "source": [
    "# Run training\n",
    "epochs = 10000\n",
    "model.fit(X, y[:, np.newaxis], epochs)"
   ]
  },
  {
   "cell_type": "code",
   "execution_count": 6,
   "metadata": {},
   "outputs": [
    {
     "data": {
      "image/png": "[encoded data removed]",
      "text/plain": [
       "<Figure size 432x288 with 1 Axes>"
      ]
     },
     "metadata": {},
     "output_type": "display_data"
    }
   ],
   "source": [
    "# Make the prediction on the meshed x-axis\n",
    "y_lower, y_pred, y_upper = model.predict(xx)\n",
    "\n",
    "# Plot the function, the prediction and the 90% confidence interval based on\n",
    "# the MSE\n",
    "fig = plt.figure()\n",
    "plt.plot(xx, f(xx), 'g:', label=u'$f(x) = x\\,\\sin(x)$')\n",
    "plt.plot(X, y, 'b.', markersize=10, label=u'Observations')\n",
    "plt.plot(xx, y_pred, 'r-', label=u'Prediction')\n",
    "plt.plot(xx, y_upper, 'k-')\n",
    "plt.plot(xx, y_lower, 'k-')\n",
    "plt.fill(np.concatenate([xx, xx[::-1]]),\n",
    "         np.concatenate([y_upper, y_lower[::-1]]),\n",
    "         alpha=.5, fc='b', ec='None', label='90% prediction interval')\n",
    "plt.xlabel('$x$')\n",
    "plt.ylabel('$f(x)$')\n",
    "plt.ylim(-10, 20)\n",
    "plt.legend(loc='upper left')\n",
    "plt.show()"
   ]
  },
  {
   "cell_type": "code",
   "execution_count": 7,
   "metadata": {},
   "outputs": [
    {
     "data": {
      "text/plain": [
       "(-1.9635946, 0.7907394, 4.25291)"
      ]
     },
     "execution_count": 7,
     "metadata": {},
     "output_type": "execute_result"
    }
   ],
   "source": [
    "predictions = model.predict(X)\n",
    "np.mean(predictions[0]), np.mean(predictions[1]), np.mean(predictions[2])"
   ]
  },
  {
   "cell_type": "code",
   "execution_count": 8,
   "metadata": {},
   "outputs": [
    {
     "name": "stdout",
     "output_type": "stream",
     "text": [
      "Percentage in the range (expecting 90%): 95.0\n"
     ]
    }
   ],
   "source": [
    "in_the_range = np.sum((y >= predictions[0]) & (y <= predictions[2]))\n",
    "print(\"Percentage in the range (expecting 90%):\", in_the_range / len(y) * 100)"
   ]
  },
  {
   "cell_type": "code",
   "execution_count": 9,
   "metadata": {},
   "outputs": [
    {
     "name": "stdout",
     "output_type": "stream",
     "text": [
      "Percentage out of the range (expecting 10%): 5.0\n"
     ]
    }
   ],
   "source": [
    "out_of_the_range = np.sum((y < predictions[0]) | (y > predictions[2]))\n",
    "print(\"Percentage out of the range (expecting 10%):\", out_of_the_range / len(y)  * 100)"
   ]
  },
  {
   "cell_type": "code",
   "execution_count": 10,
   "metadata": {},
   "outputs": [
    {
     "data": {
      "text/plain": [
       "(100,)"
      ]
     },
     "execution_count": 10,
     "metadata": {},
     "output_type": "execute_result"
    }
   ],
   "source": [
    "predictions[0].shape"
   ]
  },
  {
   "cell_type": "markdown",
   "metadata": {},
   "source": [
    "## MC Prediction"
   ]
  },
  {
   "cell_type": "code",
   "execution_count": 11,
   "metadata": {},
   "outputs": [],
   "source": [
    "K = 5000\n",
    "tmp = np.zeros((K, xx.shape[0])).astype(\"float32\")\n",
    "for k in range(K):\n",
    "    _, preds, _ = model.predict(xx, is_training=True)\n",
    "    tmp[k] = preds\n",
    "y_lower, y_pred, y_upper = np.percentile(tmp, (5, 50, 95), axis=0)    "
   ]
  },
  {
   "cell_type": "code",
   "execution_count": 12,
   "metadata": {},
   "outputs": [
    {
     "data": {
      "text/plain": [
       "(-0.2966737449169159, -0.2966737449169159, -0.20659059286117554)"
      ]
     },
     "execution_count": 12,
     "metadata": {},
     "output_type": "execute_result"
    }
   ],
   "source": [
    "y_lower[1], y_pred[1], y_upper[1]"
   ]
  },
  {
   "cell_type": "code",
   "execution_count": 18,
   "metadata": {},
   "outputs": [
    {
     "data": {
      "image/png": "[encoded data removed]",
      "text/plain": [
       "<Figure size 432x288 with 1 Axes>"
      ]
     },
     "metadata": {},
     "output_type": "display_data"
    }
   ],
   "source": [
    "# Plot the function, the prediction and the 90% confidence interval based on\n",
    "# the MSE\n",
    "fig = plt.figure()\n",
    "plt.plot(xx, f(xx), 'g:', label=u'$f(x) = x\\,\\sin(x)$')\n",
    "plt.plot(X, y, 'b.', markersize=10, label=u'Observations')\n",
    "plt.plot(xx, y_pred, 'r-', label=u'Prediction')\n",
    "plt.plot(xx, y_upper, 'k-')\n",
    "plt.plot(xx, y_lower, 'k-')\n",
    "plt.fill(np.concatenate([xx, xx[::-1]]),\n",
    "         np.concatenate([y_upper, y_lower[::-1]]),\n",
    "         alpha=.5, fc='b', ec='None', label='90% credible interval')\n",
    "plt.xlabel('$x$')\n",
    "plt.ylabel('$f(x)$')\n",
    "plt.ylim(-10, 20)\n",
    "plt.legend(loc='upper left')\n",
    "plt.show()"
   ]
  },
  {
   "cell_type": "code",
   "execution_count": 19,
   "metadata": {},
   "outputs": [
    {
     "data": {
      "text/plain": [
       "(-0.3069804834574461, 0.8169235742092132, 1.7706368205249308)"
      ]
     },
     "execution_count": 19,
     "metadata": {},
     "output_type": "execute_result"
    }
   ],
   "source": [
    "tmp = np.zeros((K, X.shape[0])).astype(\"float32\")\n",
    "for k in range(K):\n",
    "    _, preds, _ = model.predict(X, is_training=True)\n",
    "    tmp[k] = preds\n",
    "predictions = np.percentile(tmp, (5, 50, 95), axis=0) \n",
    "np.mean(predictions[0]), np.mean(predictions[1]), np.mean(predictions[2])"
   ]
  },
  {
   "cell_type": "code",
   "execution_count": 23,
   "metadata": {},
   "outputs": [
    {
     "name": "stdout",
     "output_type": "stream",
     "text": [
      "Percentage in the range: 42.0\n"
     ]
    }
   ],
   "source": [
    "in_the_range = np.sum((y >= predictions[0]) & (y <= predictions[2]))\n",
    "print(\"Percentage in the range:\", in_the_range / len(y) * 100)"
   ]
  },
  {
   "cell_type": "code",
   "execution_count": 24,
   "metadata": {},
   "outputs": [
    {
     "name": "stdout",
     "output_type": "stream",
     "text": [
      "Percentage out of the range: 57.99999999999999\n"
     ]
    }
   ],
   "source": [
    "out_of_the_range = np.sum((y < predictions[0]) | (y > predictions[2]))\n",
    "print(\"Percentage out of the range:\", out_of_the_range / len(y)  * 100)"
   ]
  },
  {
   "cell_type": "code",
   "execution_count": null,
   "metadata": {},
   "outputs": [],
   "source": []
  },
  {
   "cell_type": "code",
   "execution_count": null,
   "metadata": {},
   "outputs": [],
   "source": []
  }
 ],
 "metadata": {
  "kernelspec": {
   "display_name": "Python 3",
   "language": "python",
   "name": "python3"
  },
  "language_info": {
   "codemirror_mode": {
    "name": "ipython",
    "version": 3
   },
   "file_extension": ".py",
   "mimetype": "text/x-python",
   "name": "python",
   "nbconvert_exporter": "python",
   "pygments_lexer": "ipython3",
   "version": "3.5.2"
  }
 },
 "nbformat": 4,
 "nbformat_minor": 2
}
